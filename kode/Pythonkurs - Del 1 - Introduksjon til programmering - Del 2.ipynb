{
  "cells": [
    {
      "cell_type": "markdown",
      "metadata": {
        "id": "view-in-github",
        "colab_type": "text"
      },
      "source": [
        "<a href=\"https://colab.research.google.com/github/kbotnen/pythonkurs_v25/blob/main/kode/Pythonkurs%20-%20Del%201%20-%20Introduksjon%20til%20programmering%20-%20Del%202.ipynb\" target=\"_parent\"><img src=\"https://colab.research.google.com/assets/colab-badge.svg\" alt=\"Open In Colab\"/></a>"
      ]
    },
    {
      "cell_type": "markdown",
      "id": "27193462",
      "metadata": {
        "id": "27193462"
      },
      "source": [
        "# Python for ingeniøren - Introduksjon til python - Del 2\n",
        "Hva er python og hva kan det brukes til?\n",
        "\n",
        "NITO pythonkurs mai 2025, Kristian Botnen"
      ]
    },
    {
      "cell_type": "markdown",
      "id": "20403cf3",
      "metadata": {
        "id": "20403cf3"
      },
      "source": [
        "## Litt kode for å vise funksjoner på string og list"
      ]
    },
    {
      "cell_type": "code",
      "execution_count": null,
      "id": "ddcf3f20",
      "metadata": {
        "id": "ddcf3f20"
      },
      "outputs": [],
      "source": [
        "# Remember that we can check the type of a variable.\n",
        "string_var = \"Hello World\"\n",
        "print(type(string_var))"
      ]
    },
    {
      "cell_type": "code",
      "execution_count": null,
      "id": "754789a8",
      "metadata": {
        "id": "754789a8"
      },
      "outputs": [],
      "source": [
        "# We can uppercase / lowercase a string.\n",
        "string_var = \"Hello World\"\n",
        "print(string_var.lower())\n",
        "print(string_var.upper())\n",
        "print(string_var)"
      ]
    },
    {
      "cell_type": "code",
      "execution_count": null,
      "id": "e5fa5532",
      "metadata": {
        "id": "e5fa5532"
      },
      "outputs": [],
      "source": [
        "# String is actually a list of characters.\n",
        "string_var = \"Hello World\"\n",
        "print(string_var[0])"
      ]
    },
    {
      "cell_type": "code",
      "execution_count": null,
      "id": "bf8aee1c",
      "metadata": {
        "id": "bf8aee1c"
      },
      "outputs": [],
      "source": [
        "# We can loop over a string (which is a type of list) by using the index.\n",
        "string_var = \"Hello World\"\n",
        "for bokstav in string_var:\n",
        "    print(bokstav)\n"
      ]
    },
    {
      "cell_type": "code",
      "execution_count": null,
      "id": "34a9f517",
      "metadata": {
        "id": "34a9f517"
      },
      "outputs": [],
      "source": [
        "# We can define a list like this.\n",
        "fruit_list = [\"apple\", 1, True]\n",
        "\n",
        "# And then we can loop over the list.\n",
        "for fruit in fruit_list:\n",
        "    print(fruit)\n",
        "\n",
        "print(fruit_list)"
      ]
    },
    {
      "cell_type": "code",
      "execution_count": null,
      "id": "3713a621",
      "metadata": {
        "id": "3713a621"
      },
      "outputs": [],
      "source": [
        "# We can sort a list in reverse.\n",
        "fruit_list = [\"apple\", \"banana\", \"cherry\"]\n",
        "print(fruit_list)\n",
        "fruit_list.sort(reverse=True)\n",
        "print(fruit_list)\n"
      ]
    },
    {
      "cell_type": "code",
      "execution_count": null,
      "id": "80e661e6-841e-4bc4-91f8-cb3b56651467",
      "metadata": {
        "id": "80e661e6-841e-4bc4-91f8-cb3b56651467"
      },
      "outputs": [],
      "source": [
        "# We can define a dictionary like this.\n",
        "personal_info = {\"firstName\": \"Kristian\",\n",
        "          \"lastName\": \"Botnen\",\n",
        "          \"age\": 43,\n",
        "          \"hairColour\": \"brown\",\n",
        "          \"height\": 176}\n",
        "\n",
        "# And then print information from the dict.\n",
        "print(\"My hairColour is \", personal_info['hairColour'])\n",
        "# And change information in the dict.\n",
        "personal_info['hairColour'] = \"green\"\n",
        "# Check that our change is... changed?\n",
        "print(\"My hairColour is \", personal_info['hairColour'])\n",
        "# We can add a new key:value pair in our dictionary.\n",
        "personal_info['language'] = \"python\"\n",
        "# And print the new key:value pair.\n",
        "print(\"My language is \", personal_info['language'])"
      ]
    },
    {
      "cell_type": "code",
      "execution_count": null,
      "id": "6a2a0f59-d17f-4b59-89d1-5724dd86655c",
      "metadata": {
        "id": "6a2a0f59-d17f-4b59-89d1-5724dd86655c"
      },
      "outputs": [],
      "source": [
        "# We can define multiple lists.\n",
        "trondheimWeatherStation = { \"stationName\": \"Trondheim\",\n",
        "                        \"windSpeed\": 10,\n",
        "                        \"windDirection\": 189,\n",
        "                        \"temperature\": 4.3}\n",
        "\n",
        "osloWeatherStation = { \"stationName\": \"Oslo\",\n",
        "                        \"windSpeed\": 4,\n",
        "                        \"windDirection\": 76,\n",
        "                        \"temperature\": 9.8}\n",
        "\n",
        "# And create a list that contain our dictionaries.\n",
        "weatherstations = [trondheimWeatherStation, osloWeatherStation]\n",
        "\n",
        "# And inspect the list of dictionaries using a for loop.\n",
        "for station in weatherstations:\n",
        "    for key in station.keys():\n",
        "        print(key, \":\", station[key])\n"
      ]
    },
    {
      "cell_type": "markdown",
      "id": "daad06ab",
      "metadata": {
        "id": "daad06ab"
      },
      "source": [
        "# Oppsummering og oppgaver"
      ]
    },
    {
      "cell_type": "markdown",
      "id": "91fe0f73-aba2-4595-8251-ed0089f2a900",
      "metadata": {
        "id": "91fe0f73-aba2-4595-8251-ed0089f2a900"
      },
      "source": [
        "## Oppgaver - Del 1\n",
        "\n",
        "0. Opprett et nytt tomt kodeprosjekt / dokument.\n",
        "1. Lag en variabel som inneholder en valgfri tekst (string).\n",
        "2. Lag en funksjon som tar inn variabelen og reverserer stringen."
      ]
    },
    {
      "cell_type": "markdown",
      "id": "4cada981-ed02-46c9-a521-530edcad7271",
      "metadata": {
        "id": "4cada981-ed02-46c9-a521-530edcad7271"
      },
      "source": [
        "## Oppgaver - Del 2\n",
        "\n",
        "0. Opprett et nytt tomt kodeprosjekt / dokument.\n",
        "1. Lag et program som simulerer en terning. Du kan kanskje gjenbruke deler av koden fra tidligere oppgave?\n",
        "2. Bruk programmet til å utføre 10, 100 eller 1000 kast.\n",
        "3. Vi vet hva sansynligheten for å få en sekser er 1/6, men hvordan stemmer dette overens med resultatene fra pkt2?."
      ]
    }
  ],
  "metadata": {
    "kernelspec": {
      "display_name": "Python 3 (ipykernel)",
      "language": "python",
      "name": "python3"
    },
    "language_info": {
      "codemirror_mode": {
        "name": "ipython",
        "version": 3
      },
      "file_extension": ".py",
      "mimetype": "text/x-python",
      "name": "python",
      "nbconvert_exporter": "python",
      "pygments_lexer": "ipython3",
      "version": "3.12.2"
    },
    "colab": {
      "provenance": [],
      "include_colab_link": true
    }
  },
  "nbformat": 4,
  "nbformat_minor": 5
}
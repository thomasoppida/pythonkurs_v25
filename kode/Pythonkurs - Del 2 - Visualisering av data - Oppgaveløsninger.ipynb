{
  "cells": [
    {
      "cell_type": "markdown",
      "metadata": {
        "id": "view-in-github",
        "colab_type": "text"
      },
      "source": [
        "<a href=\"https://colab.research.google.com/github/kbotnen/pythonkurs_v25/blob/main/kode/Pythonkurs%20-%20Del%202%20-%20Visualisering%20av%20data%20-%20Oppgavel%C3%B8sninger.ipynb\" target=\"_parent\"><img src=\"https://colab.research.google.com/assets/colab-badge.svg\" alt=\"Open In Colab\"/></a>"
      ]
    },
    {
      "cell_type": "markdown",
      "id": "2ef619b9",
      "metadata": {
        "id": "2ef619b9"
      },
      "source": [
        "## Oppgave\n",
        "0: Opprett et nytt tomt kodeprosjekt / dokument.\n",
        "\n",
        "1: Bruk terningprogrammet fra forrige oppgave.\n",
        "\n",
        "2: Plott resultatene fra 1000 eller 10.000 terningkast i valgfritt plot."
      ]
    },
    {
      "cell_type": "markdown",
      "id": "21af941b",
      "metadata": {
        "id": "21af941b"
      },
      "source": [
        "## Løsningsforslag oppgave"
      ]
    },
    {
      "cell_type": "code",
      "execution_count": null,
      "id": "56844779",
      "metadata": {
        "scrolled": true,
        "id": "56844779"
      },
      "outputs": [],
      "source": [
        "import random\n",
        "\n",
        "def kast_terning(antall_kast):\n",
        "    result_array = []\n",
        "    for i in range(0,antall_kast):\n",
        "        result_array.append(random.randrange(1,7))\n",
        "    #print(\"Antall prosent som er 6:\", (result_array.count(6) / antall_kast) * 100)\n",
        "    return result_array\n",
        "\n",
        "antall_kast = 100\n",
        "dataset = kast_terning(antall_kast)\n",
        "#print(dataset)\n",
        "print(\"Antall prosent som er 1:\", (dataset.count(1) / antall_kast) * 100)\n",
        "print(\"Antall kast som er 1:\", (dataset.count(1)))\n",
        "print(\"----------------------------------\")\n",
        "print(\"Antall prosent som er 2:\", (dataset.count(2) / antall_kast) * 100)\n",
        "print(\"Antall kast som er 2:\", (dataset.count(2)))\n",
        "print(\"----------------------------------\")\n",
        "print(\"Antall prosent som er 3:\", (dataset.count(3) / antall_kast) * 100)\n",
        "print(\"Antall kast som er 3:\", (dataset.count(3)))\n",
        "print(\"----------------------------------\")\n",
        "print(\"Antall prosent som er 4:\", (dataset.count(4) / antall_kast) * 100)\n",
        "print(\"Antall kast som er 4:\", (dataset.count(4)))\n",
        "print(\"----------------------------------\")\n",
        "print(\"Antall prosent som er 5:\", (dataset.count(5) / antall_kast) * 100)\n",
        "print(\"Antall kast som er 5:\", (dataset.count(5)))\n",
        "print(\"----------------------------------\")\n",
        "print(\"Antall prosent som er 6:\", (dataset.count(6) / antall_kast) * 100)\n",
        "print(\"Antall kast som er 6:\", (dataset.count(6)))"
      ]
    },
    {
      "cell_type": "code",
      "execution_count": null,
      "id": "fd3e8877",
      "metadata": {
        "id": "fd3e8877"
      },
      "outputs": [],
      "source": [
        "print(type(dataset))\n",
        "print(dataset)"
      ]
    },
    {
      "cell_type": "code",
      "execution_count": null,
      "id": "1a000c34-4f35-47b1-8304-8620863672d6",
      "metadata": {
        "id": "1a000c34-4f35-47b1-8304-8620863672d6"
      },
      "outputs": [],
      "source": [
        "# We need to create a new label:number of occurences DataFrame.\n",
        "import pandas as pd\n",
        "\n",
        "df = pd.DataFrame({'labels': ['1', '2', '3', '4', '5', '6'],\n",
        "                    'occurences': [dataset.count(1), dataset.count(2), dataset.count(3), dataset.count(4), dataset.count(5), dataset.count(6)]\n",
        "                    })\n",
        "\n",
        "print(df)"
      ]
    },
    {
      "cell_type": "code",
      "execution_count": null,
      "id": "face7bdc",
      "metadata": {
        "scrolled": true,
        "id": "face7bdc"
      },
      "outputs": [],
      "source": [
        "import plotly.express as px\n",
        "\n",
        "# https://plotly.com/python-api-reference/generated/plotly.express.pie.html\n",
        "fig = px.pie(\n",
        "    df,\n",
        "    values='occurences', # Values from this column or array_like are used as labels for sectors.\n",
        "    names='labels'        # Array-like and dict are transformed internally to a pandas DataFrame.\n",
        ")\n",
        "fig.show()"
      ]
    },
    {
      "cell_type": "code",
      "execution_count": null,
      "id": "c9aa95ee",
      "metadata": {
        "scrolled": true,
        "id": "c9aa95ee"
      },
      "outputs": [],
      "source": [
        "# https://plotly.com/python-api-reference/generated/plotly.express.bar.html\n",
        "new_dataset = {1:dataset.count(1),2:dataset.count(2),3:dataset.count(3),4:dataset.count(4),5:dataset.count(5),6:dataset.count(6)}\n",
        "print (new_dataset)\n",
        "print(type(new_dataset))\n",
        "fig = px.bar(\n",
        "    x=new_dataset.keys(), # Values from this column or array_like are used to position marks along the x axis.\n",
        "    y=new_dataset,   # Values from this column or array_like are used to position marks along the y axis\n",
        "    labels={\"x\":\"Result\", \"y\":\"Frequency\"} # Values should correspond to the desired label to be displayed.\n",
        ")\n",
        "fig.show()"
      ]
    }
  ],
  "metadata": {
    "kernelspec": {
      "display_name": "Python 3 (ipykernel)",
      "language": "python",
      "name": "python3"
    },
    "language_info": {
      "codemirror_mode": {
        "name": "ipython",
        "version": 3
      },
      "file_extension": ".py",
      "mimetype": "text/x-python",
      "name": "python",
      "nbconvert_exporter": "python",
      "pygments_lexer": "ipython3",
      "version": "3.12.2"
    },
    "colab": {
      "provenance": [],
      "include_colab_link": true
    }
  },
  "nbformat": 4,
  "nbformat_minor": 5
}
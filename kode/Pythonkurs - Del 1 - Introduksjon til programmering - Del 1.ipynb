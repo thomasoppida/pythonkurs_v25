{
  "cells": [
    {
      "cell_type": "markdown",
      "metadata": {
        "id": "view-in-github",
        "colab_type": "text"
      },
      "source": [
        "<a href=\"https://colab.research.google.com/github/thomasoppida/pythonkurs_v25/blob/main/kode/Pythonkurs%20-%20Del%201%20-%20Introduksjon%20til%20programmering%20-%20Del%201.ipynb\" target=\"_parent\"><img src=\"https://colab.research.google.com/assets/colab-badge.svg\" alt=\"Open In Colab\"/></a>"
      ]
    },
    {
      "cell_type": "markdown",
      "id": "b33dd3fb",
      "metadata": {
        "id": "b33dd3fb"
      },
      "source": [
        "# Python for ingeniøren - Introduksjon til python - Del 1\n",
        "Hva er python og hva kan det brukes til?\n",
        "\n",
        "NITO pythonkurs april 2025, Kristian Botnen"
      ]
    },
    {
      "cell_type": "markdown",
      "id": "7eb85c3b",
      "metadata": {
        "id": "7eb85c3b"
      },
      "source": [
        "## Kalkulator"
      ]
    },
    {
      "cell_type": "code",
      "execution_count": null,
      "id": "3b2eb312",
      "metadata": {
        "id": "3b2eb312"
      },
      "outputs": [],
      "source": [
        "# Vi har 10000 pirater, og 20 store tønner. Hvor mange pirater får vi gjemt i hver tønne?\n",
        "print(100 / 20)"
      ]
    },
    {
      "cell_type": "code",
      "execution_count": null,
      "id": "d77fa065",
      "metadata": {
        "id": "d77fa065"
      },
      "outputs": [],
      "source": [
        "# Vi har en myntdupliseringsmaskin som kan lage ti nye mynter pr.dag. Hvor mange mynter har vi iløpet av et år?\n",
        "print(365 * 10)"
      ]
    },
    {
      "cell_type": "code",
      "execution_count": null,
      "id": "5153a11d",
      "metadata": {
        "id": "5153a11d"
      },
      "outputs": [],
      "source": [
        "# Vi har funnet 101 nye mynter, hvor mye mynt har vi nå iløpet av året?\n",
        "print(365 * 10 + 101)"
      ]
    },
    {
      "cell_type": "markdown",
      "id": "fc3ed764",
      "metadata": {
        "id": "fc3ed764"
      },
      "source": [
        "Vi har mange forskjellige operatorer i python, blant annet:\n",
        "\n",
        "    + , addisjon\n",
        "    - , subraksjon\n",
        "    * , multiplikasjon\n",
        "    / , dividering\n",
        "\n",
        "*Når vi programmerer i Python så går ganging og deling før pluss og minus, så sant du ikke bruker parenteser for å endre rekkefølgen.*"
      ]
    },
    {
      "cell_type": "markdown",
      "id": "e922109d",
      "metadata": {
        "id": "e922109d"
      },
      "source": [
        "## Hva er en variabel?\n",
        "En variabel i programmering beskriver en plass hvor vi kan lagre informasjon som tall, tekst, lister med mer. Vi kan også se på en variabel som en merkelapp til stedet hvor informasjonen er lagret."
      ]
    },
    {
      "cell_type": "code",
      "execution_count": null,
      "id": "4fdb051c",
      "metadata": {
        "id": "4fdb051c"
      },
      "outputs": [],
      "source": [
        "# Vi kan lage en variabel på denne måten:\n",
        "pirat = \"Langemann\"\n",
        "print(pirat)"
      ]
    },
    {
      "cell_type": "code",
      "execution_count": null,
      "id": "625d216d",
      "metadata": {
        "id": "625d216d"
      },
      "outputs": [],
      "source": [
        "# Vi kan endre innholdet i en variabel ved å tildele en ny verdi på samme måte som vi gjorde opprinnelig:\n",
        "pirat = \"Kaptein Sabeltann\"\n",
        "print(pirat)"
      ]
    },
    {
      "cell_type": "code",
      "execution_count": null,
      "id": "882ed584",
      "metadata": {
        "id": "882ed584"
      },
      "outputs": [],
      "source": [
        "# Vi kan ha flere merkelapper som peker til den samme informasjonen:\n",
        "kaptein = pirat\n",
        "print(kaptein)"
      ]
    },
    {
      "cell_type": "code",
      "execution_count": null,
      "id": "efd6c7e9",
      "metadata": {
        "scrolled": true,
        "id": "efd6c7e9"
      },
      "outputs": [],
      "source": [
        "# Det kan være lurt å navngi variablene våre slik at vi skjønner hva de skal brukes til:\n",
        "antall_mynter = 200\n",
        "print(antall_mynter)"
      ]
    },
    {
      "cell_type": "code",
      "execution_count": null,
      "id": "111725bb",
      "metadata": {
        "id": "111725bb"
      },
      "outputs": [],
      "source": [
        "# Vi kan se hvilken type verdi en variabel peker til ved å bruke nøkkelordet type():\n",
        "print(type(kaptein))\n",
        "print(type(antall_mynter))"
      ]
    },
    {
      "cell_type": "markdown",
      "id": "9bf28756",
      "metadata": {
        "id": "9bf28756"
      },
      "source": [
        "## Bruke variabler\n",
        "La oss bruke det vi har lært til nå."
      ]
    },
    {
      "cell_type": "code",
      "execution_count": null,
      "id": "e59b60c7",
      "metadata": {
        "id": "e59b60c7"
      },
      "outputs": [],
      "source": [
        "antall_dager = 365\n",
        "antall_produserte_mynter_dag = 10\n",
        "antall_ekstra_mynter = 101\n",
        "\n",
        "print(antall_dager * antall_produserte_mynter_dag + antall_ekstra_mynter)"
      ]
    },
    {
      "cell_type": "markdown",
      "id": "4b0446ad",
      "metadata": {
        "id": "4b0446ad"
      },
      "source": [
        "Ved å bruke variabler kan vi enkelt endre verdier et sted, og så blir de nye verdiene tilgjengelig alle steder hvor variablene er brukt. Dette vil spare oss for mye manuell inntasting, som igjen sparer oss tid OG reduserer risikoen for å taste feil."
      ]
    },
    {
      "cell_type": "markdown",
      "id": "97e8b868",
      "metadata": {
        "id": "97e8b868"
      },
      "source": [
        "## Løkker\n",
        "Maskinen er flink til å repetere ting. Vi skal her se på to forskjellige måter å repetere."
      ]
    },
    {
      "cell_type": "code",
      "execution_count": null,
      "id": "9e45fc20",
      "metadata": {
        "id": "9e45fc20"
      },
      "outputs": [],
      "source": [
        "# Tilstandsløkke\n",
        "i = 0\n",
        "while (i < 5):\n",
        "    print(i)\n",
        "    i = i + 1"
      ]
    },
    {
      "cell_type": "code",
      "execution_count": null,
      "id": "f4122080",
      "metadata": {
        "id": "f4122080"
      },
      "outputs": [],
      "source": [
        "# Telleløkke\n",
        "for i in range(0, 5):\n",
        "    print(i)"
      ]
    },
    {
      "cell_type": "markdown",
      "id": "e7c72540",
      "metadata": {
        "id": "e7c72540"
      },
      "source": [
        "## Inndata\n",
        "La oss se hvordan vi kan gå frem for å gi maskinen noe inndata."
      ]
    },
    {
      "cell_type": "code",
      "execution_count": null,
      "id": "6314a03b",
      "metadata": {
        "scrolled": true,
        "id": "6314a03b"
      },
      "outputs": [],
      "source": [
        "inndata = \"\"\n",
        "while (inndata != \"quit\"):\n",
        "    inndata = input(\"Enter something:\") # The input() function always return a string!\n",
        "    print(\"You entered: \" + inndata)\n",
        "print(\"You told me to quit, so I did\")"
      ]
    },
    {
      "cell_type": "markdown",
      "id": "c1d1c5a1",
      "metadata": {
        "id": "c1d1c5a1"
      },
      "source": [
        "## Typecasting\n",
        "Vi ser på hvordan vi kan sjonglere mellom forskjellige typer."
      ]
    },
    {
      "cell_type": "code",
      "execution_count": null,
      "id": "38f56197",
      "metadata": {
        "id": "38f56197"
      },
      "outputs": [],
      "source": [
        "string_variable_a = \"1\"\n",
        "string_variable_b = \"2\"\n",
        "\n",
        "print(string_variable_a + string_variable_b) # Vi konkatinerer to variabler av type string."
      ]
    },
    {
      "cell_type": "code",
      "execution_count": null,
      "id": "1da0f377",
      "metadata": {
        "id": "1da0f377"
      },
      "outputs": [],
      "source": [
        "string_variable_a = \"1\"\n",
        "string_variable_b = \"2\"\n",
        "\n",
        "print(int(string_variable_a) + int(string_variable_b)) # Vi summerer to variabler av type string v.h.a typecasting."
      ]
    },
    {
      "cell_type": "markdown",
      "id": "86d3be5a",
      "metadata": {
        "id": "86d3be5a"
      },
      "source": [
        "## Bonus: Vi kaster terning\n",
        "Bakgrunn: Vi ønsker å kaste en terning 6 ganger. La oss se hvordan vi kan løse dette på forskjellige måter.\n",
        "\n",
        "Vi bruker den innebygde modulen random, som tross navnet genererer pseudorandom verdier.\n",
        "\n",
        "Vi skal også gjøre et forsøk på å bruke den offisielle dokumentasjonen: [https://docs.python.org/3/library/random.html](https://docs.python.org/3/library/random.html)"
      ]
    },
    {
      "cell_type": "code",
      "execution_count": null,
      "id": "aef113cc",
      "metadata": {
        "id": "aef113cc"
      },
      "outputs": [],
      "source": [
        "import random\n",
        "#random.seed(1)\n",
        "print(random.randrange(1,7))\n",
        "print(random.randrange(1,7))\n",
        "print(random.randrange(1,7))\n",
        "print(random.randrange(1,7))\n",
        "print(random.randrange(1,7))\n",
        "print(random.randrange(1,7))"
      ]
    },
    {
      "cell_type": "code",
      "execution_count": null,
      "id": "f2ed8492",
      "metadata": {
        "id": "f2ed8492"
      },
      "outputs": [],
      "source": [
        "import random\n",
        "\n",
        "def egen_funksjon():\n",
        "    print(random.randrange(1,7))\n",
        "\n",
        "egen_funksjon()\n",
        "egen_funksjon()\n",
        "egen_funksjon()\n",
        "egen_funksjon()\n",
        "egen_funksjon()\n",
        "egen_funksjon()"
      ]
    },
    {
      "cell_type": "code",
      "execution_count": null,
      "id": "3d5a0405",
      "metadata": {
        "scrolled": true,
        "id": "3d5a0405"
      },
      "outputs": [],
      "source": [
        "import random\n",
        "\n",
        "def egen_funksjon(antall_kast):\n",
        "    for i in range(0, antall_kast):\n",
        "        print(random.randrange(1,7))\n",
        "\n",
        "egen_funksjon(6)"
      ]
    },
    {
      "cell_type": "markdown",
      "id": "5346e966",
      "metadata": {
        "id": "5346e966"
      },
      "source": [
        "# Oppsummering og oppgaver"
      ]
    },
    {
      "cell_type": "markdown",
      "id": "0085f7d2",
      "metadata": {
        "id": "0085f7d2"
      },
      "source": [
        "## Oppsummering 1\n",
        "Vi har lært litt om hva python er og hvordan vi kan bruke det til å gjøre enkle kalkuleringsoppgaver. Vi har også sett litt på python sin syntaks, lært hva variabler er og hvordan de kan brukes.\n",
        "\n",
        "\n",
        "## Oppgave 1\n",
        "0. Opprett et nytt tomt kodeprosjekt / dokument.\n",
        "1. Lag et program som regner ut **summen** av følgende tall: 27, 15, 6, 21, 52.\n",
        "2. Lag et program som regner ut **differansen** mellom følgende tall: 27, 15, 6, 21, 52.\n",
        "3. Lag et program som regner ut **produktet** av følgende tall: 27, 15, 6, 21, 52."
      ]
    },
    {
      "cell_type": "markdown",
      "id": "6fd67782",
      "metadata": {
        "id": "6fd67782"
      },
      "source": [
        "## Oppsummering 2\n",
        "Vi har sett på hvordan vi kan hente inn data v.h.a en tilstandsløkke, samt hvordan vi kan bruke variabler for å lagre verdier som vi summerer.\n",
        "\n",
        "\n",
        "## Oppgave 2\n",
        "\n",
        "0. Opprett et nytt tomt kodeprosjekt / dokument.\n",
        "1. Lag et program som regner ut **summen** av to tall som du skriver inn."
      ]
    },
    {
      "cell_type": "markdown",
      "id": "1c40e5b7",
      "metadata": {
        "id": "1c40e5b7"
      },
      "source": [
        "## Oppsummering 3\n",
        "Vi har sett flere eksempler på hvordan vi kan rulle en terning ved hjelp av den innebygde random() funksjonen. Vi valgte å rulle en terning 6 ganger.\n",
        "\n",
        "\n",
        "## Oppgave 3\n",
        "0. Opprett et nytt tomt kodeprosjekt / dokument.\n",
        "1. Lag et program som ruller en terning 12 ganger.\n",
        "2. Lag et program som ruller en 12-sidet terning 6 ganger.\n",
        "2. Lag et program som ruller to terninger 6 ganger."
      ]
    }
  ],
  "metadata": {
    "celltoolbar": "Slideshow",
    "kernelspec": {
      "display_name": "Python 3 (ipykernel)",
      "language": "python",
      "name": "python3"
    },
    "language_info": {
      "codemirror_mode": {
        "name": "ipython",
        "version": 3
      },
      "file_extension": ".py",
      "mimetype": "text/x-python",
      "name": "python",
      "nbconvert_exporter": "python",
      "pygments_lexer": "ipython3",
      "version": "3.12.2"
    },
    "colab": {
      "provenance": [],
      "include_colab_link": true
    }
  },
  "nbformat": 4,
  "nbformat_minor": 5
}